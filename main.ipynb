{
 "cells": [
  {
   "attachments": {},
   "cell_type": "markdown",
   "metadata": {},
   "source": [
    "## Connect to the MySQL database."
   ]
  },
  {
   "cell_type": "code",
   "execution_count": null,
   "metadata": {},
   "outputs": [],
   "source": [
    "import mysql.connector\n",
    "from mysql.connector import Error\n",
    "\n",
    "config = {\n",
    "    'host': 'localhost',\n",
    "    'database': 'database_name',\n",
    "    'user': 'root',\n",
    "    'password': 'pwd',\n",
    "}\n",
    "\n",
    "# 建立資料庫連線\n",
    "cnx = mysql.connector.connect(**config)\n",
    "cursor = cnx.cursor()\n",
    "\n",
    "# 執行 SELECT 指令選取表格的 data 欄位資料\n",
    "query = (\"SELECT data from garmin_push_log;\")\n",
    "\n",
    "# 執行 SELECT 指令\n",
    "cursor.execute(query)\n",
    "\n",
    "# 將資料匯出成 txt 檔案\n",
    "with open('./output.txt', 'w') as f:\n",
    "    for (data,) in cursor:\n",
    "        f.write(data + '\\n')\n",
    "\n",
    "# 關閉資料庫連線\n",
    "cursor.close()\n",
    "cnx.close()"
   ]
  },
  {
   "attachments": {},
   "cell_type": "markdown",
   "metadata": {},
   "source": [
    "### read the data we export to the output.txt"
   ]
  },
  {
   "cell_type": "code",
   "execution_count": null,
   "metadata": {},
   "outputs": [],
   "source": [
    "import json\n",
    "import matplotlib.pyplot as plt\n",
    "\n",
    "# read the data we export to the output.txt\n",
    "data_path = './output.txt'\n",
    "with open(data_path, \"r\") as input_file:\n",
    "    content = input_file.read().splitlines()"
   ]
  },
  {
   "cell_type": "code",
   "execution_count": null,
   "metadata": {},
   "outputs": [],
   "source": [
    "# capture the data concerining sleep.\n",
    "result = []\n",
    "\n",
    "for i in range(0, len(content)):\n",
    "\n",
    "    try:\n",
    "        data = json.loads(content[i])\n",
    "        sleep_map = data.get('sleeps')[0].get('sleepLevelsMap')\n",
    "        result.append(sleep_map)\n",
    "    except:\n",
    "        continue\n",
    "\n",
    "# print(result)\n",
    "print(\"Total map we have gotten:\", str(len(result)))\n",
    "\n",
    "\"\"\"\n",
    "\"\"\"\n",
    "\n",
    "# first, we test the specific index \n",
    "# we want to visualize.\n",
    "number = 0\n",
    "# print(result[number])\n",
    "\n",
    "\"\"\"_comment_\n",
    "@1chooo\n",
    "I would recommend reworking the following \n",
    "code as it contains three nested for-loops \n",
    "that could potentially impact its efficiency. \n",
    "Additionally, it appears that we have only \n",
    "printed the first data figure obtained.\n",
    "\"\"\"\n",
    "\n",
    "# find the minimum of the TimeInSeconds\n",
    "min_time = float('inf')\n",
    "for phase in result[number].values():\n",
    "    for period in phase:\n",
    "        for key, value in period.items():\n",
    "            if key.endswith('TimeInSeconds'):\n",
    "                min_time = min(min_time, value)\n",
    "\n",
    "# find the maximum of the TimeInSeconds\n",
    "max_time = float('-inf')\n",
    "for phase in result[number].values():\n",
    "    for period in phase:\n",
    "        for key, value in period.items():\n",
    "            if key.endswith('TimeInSeconds'):\n",
    "                max_time = max(max_time, value)\n",
    "\n",
    "\"\"\" Show the result of sleep time. \"\"\"\n",
    "sleep_runtime = max_time - min_time\n",
    "sleep_runtime_in_hr = sleep_runtime / 3_600\n",
    "\n",
    "print(\"The minimum of the time:\", str(min_time))\n",
    "print(\"The minimum of the time:\", str(max_time))\n",
    "print(\"The runtime of the sleep time:\", sleep_runtime, \"(s) =\", sleep_runtime_in_hr, \"(hr)\")\n",
    "\n",
    "\n",
    "# let every TimeInSeconds - min_time\n",
    "# to get the time era.\n",
    "for phase in result[number].values():\n",
    "    for period in phase:\n",
    "        for key, value in period.items():\n",
    "            if key.endswith('TimeInSeconds'):\n",
    "                period[key] = value - min_time\n",
    "\n",
    "# print(result[number])\n",
    "\n",
    "#--------------------------------------------------------#\n",
    "\n",
    "# get the interval of the time.\n",
    "times = []\n",
    "\n",
    "for phase in result[number].values():\n",
    "    for period in phase:\n",
    "        times.append(period['startTimeInSeconds'])\n",
    "        times.append(period['endTimeInSeconds'])\n",
    "times.sort()\n",
    "\n",
    "start_time = times[0]\n",
    "end_time = times[-1]"
   ]
  },
  {
   "cell_type": "code",
   "execution_count": null,
   "metadata": {},
   "outputs": [],
   "source": [
    "\"\"\"_comment_\n",
    "@1chooo\n",
    "there is no present of the REM.\n",
    "\"\"\"\n",
    "# plot the figure.\n",
    "fig, ax = plt.subplots()\n",
    "phases = ['Deep', 'Light', 'Awake', 'REM']\n",
    "\n",
    "for i, phase in enumerate(phases):\n",
    "\n",
    "    y = i + 1\n",
    "\n",
    "    for period in result[number].get(phase.lower(), []):\n",
    "        start = period['startTimeInSeconds'] - start_time\n",
    "        end = period['endTimeInSeconds'] - start_time\n",
    "        duration = end - start\n",
    "        ax.barh(y, duration, left=start, height=0.5, align='center', alpha=0.7, label=phase)\n",
    "\n",
    "ax.set_yticks([1, 2, 3, 4])\n",
    "ax.set_yticklabels(phases)\n",
    "ax.set_xlabel('Time (s)')\n",
    "ax.set_xlim(0, end_time - start_time)\n",
    "ax.legend(loc='lower center', ncol=4, bbox_to_anchor=(0.5, -0.2))\n",
    "plt.legend().set_visible(False)\n",
    "plt.title('The cycle in one sleep.')\n",
    "\n",
    "plt.show()"
   ]
  },
  {
   "attachments": {},
   "cell_type": "markdown",
   "metadata": {},
   "source": [
    "### Reference: \n",
    "[MySQL資料庫的安裝與基本操作](https://medium.com/web-design-zone/mysql%E8%B3%87%E6%96%99%E5%BA%AB%E7%9A%84%E5%AE%89%E8%A3%9D%E8%88%87%E5%9F%BA%E6%9C%AC%E6%93%8D%E4%BD%9C-f36a079afd85)\n",
    "\n",
    "[SQL table資料表的基本操作](https://medium.com/web-design-zone/sql-table%E8%B3%87%E6%96%99%E8%A1%A8%E7%9A%84%E5%9F%BA%E6%9C%AC%E6%93%8D%E4%BD%9C-b7c0f830c60f)"
   ]
  },
  {
   "cell_type": "markdown",
   "metadata": {},
   "source": []
  }
 ],
 "metadata": {
  "kernelspec": {
   "display_name": "Python 3",
   "language": "python",
   "name": "python3"
  },
  "language_info": {
   "codemirror_mode": {
    "name": "ipython",
    "version": 3
   },
   "file_extension": ".py",
   "mimetype": "text/x-python",
   "name": "python",
   "nbconvert_exporter": "python",
   "pygments_lexer": "ipython3",
   "version": "3.10.1"
  },
  "orig_nbformat": 4,
  "vscode": {
   "interpreter": {
    "hash": "aee8b7b246df8f9039afb4144a1f6fd8d2ca17a180786b69acc140d282b71a49"
   }
  }
 },
 "nbformat": 4,
 "nbformat_minor": 2
}
