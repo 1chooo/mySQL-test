{
 "cells": [
  {
   "cell_type": "code",
   "execution_count": 8,
   "metadata": {},
   "outputs": [
    {
     "name": "stdout",
     "output_type": "stream",
     "text": [
      "資料庫版本： 8.0.31\n",
      "目前使用的資料庫： ('sporttest',)\n"
     ]
    }
   ],
   "source": [
    "import mysql.connector\n",
    "from mysql.connector import Error\n",
    "\n",
    "# 連接 MySQL/MariaDB 資料庫\n",
    "connection = mysql.connector.connect(\n",
    "    host='localhost',          # 主機名稱\n",
    "    database='sportTest', # 資料庫名稱\n",
    "    user='root',        # 帳號\n",
    "    password='29202726' # 密碼\n",
    ")\n",
    "\n",
    "if connection.is_connected():\n",
    "    # 顯示資料庫版本\n",
    "    db_Info = connection.get_server_info()\n",
    "    print(\"資料庫版本：\", db_Info)\n",
    "    # 顯示目前使用的資料庫\n",
    "    cursor = connection.cursor()\n",
    "    cursor.execute(\"SELECT DATABASE();\")\n",
    "    record = cursor.fetchone()\n",
    "    print(\"目前使用的資料庫：\", record)\n",
    "\n",
    "# cursor.execute('show tables;')\n",
    "# record = cursor.fetchone()\n",
    "# print(\"test:\", record)\n",
    "\n",
    "cursor.execute('show columns from garmin_push_log;')"
   ]
  },
  {
   "cell_type": "code",
   "execution_count": null,
   "metadata": {},
   "outputs": [],
   "source": []
  }
 ],
 "metadata": {
  "kernelspec": {
   "display_name": "Python 3",
   "language": "python",
   "name": "python3"
  },
  "language_info": {
   "codemirror_mode": {
    "name": "ipython",
    "version": 3
   },
   "file_extension": ".py",
   "mimetype": "text/x-python",
   "name": "python",
   "nbconvert_exporter": "python",
   "pygments_lexer": "ipython3",
   "version": "3.10.1"
  },
  "orig_nbformat": 4,
  "vscode": {
   "interpreter": {
    "hash": "aee8b7b246df8f9039afb4144a1f6fd8d2ca17a180786b69acc140d282b71a49"
   }
  }
 },
 "nbformat": 4,
 "nbformat_minor": 2
}
